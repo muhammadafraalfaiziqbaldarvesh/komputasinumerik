{
  "nbformat": 4,
  "nbformat_minor": 0,
  "metadata": {
    "colab": {
      "provenance": [],
      "include_colab_link": true
    },
    "kernelspec": {
      "name": "python3",
      "display_name": "Python 3"
    },
    "language_info": {
      "name": "python"
    }
  },
  "cells": [
    {
      "cell_type": "markdown",
      "metadata": {
        "id": "view-in-github",
        "colab_type": "text"
      },
      "source": [
        "<a href=\"https://colab.research.google.com/github/muhammadafraalfaiziqbaldarvesh/komputasinumerik/blob/main/eliminasi%20gauss.ipynb\" target=\"_parent\"><img src=\"https://colab.research.google.com/assets/colab-badge.svg\" alt=\"Open In Colab\"/></a>"
      ]
    },
    {
      "cell_type": "code",
      "execution_count": 9,
      "metadata": {
        "colab": {
          "base_uri": "https://localhost:8080/"
        },
        "id": "C3aJpOzwRswY",
        "outputId": "dd6a2ebf-8ede-4fe6-f692-05c9c39ec24d"
      },
      "outputs": [
        {
          "output_type": "stream",
          "name": "stdout",
          "text": [
            "Sistem Persamaan Linear (Matriks Awal):\n",
            "[2, 3, -1, 5]\n",
            "[4, 4, -3, 3]\n",
            "[-2, 3, -1, 1]\n"
          ]
        }
      ],
      "source": [
        "# Mendefinisikan matriks SPL\n",
        "SPL = [\n",
        "    [2, 3, -1, 5],  # Baris pertama\n",
        "    [4, 4, -3, 3],  # Baris kedua\n",
        "    [-2, 3, -1, 1]  # Baris ketiga\n",
        "]\n",
        "\n",
        "# Menampilkan matriks awal\n",
        "print(\"Sistem Persamaan Linear (Matriks Awal):\")\n",
        "for row in SPL:\n",
        "    print(row)\n"
      ]
    },
    {
      "cell_type": "code",
      "source": [
        "# Eliminasi baris kedua menggunakan elemen pertama dari baris pertama\n",
        "for i in range(4):  # Iterasi pada setiap kolom\n",
        "    SPL[1][i] = SPL[1][i] - (2 * SPL[0][i])  # Operasi eleminasi baris 2\n",
        "\n",
        "# Menampilkan hasil matriks setelah eliminasi baris kedua\n",
        "print(\"Matriks setelah eliminasi baris kedua:\")\n",
        "for row in SPL:\n",
        "    print(row)\n"
      ],
      "metadata": {
        "colab": {
          "base_uri": "https://localhost:8080/"
        },
        "id": "js9lGSow2LIs",
        "outputId": "3e8377f3-6276-4f89-c19d-d2b7e4864122"
      },
      "execution_count": 10,
      "outputs": [
        {
          "output_type": "stream",
          "name": "stdout",
          "text": [
            "Matriks setelah eliminasi baris kedua:\n",
            "[2, 3, -1, 5]\n",
            "[0, -2, -1, -7]\n",
            "[-2, 3, -1, 1]\n"
          ]
        }
      ]
    },
    {
      "cell_type": "code",
      "source": [
        "# Eliminasi baris ketiga menggunakan elemen pertama dari baris pertama\n",
        "for i in range(4):  # Iterasi pada setiap kolom\n",
        "    SPL[2][i] = SPL[2][i] - (-1 * SPL[0][i])  # Operasi eleminasi baris 3\n",
        "\n",
        "# Menampilkan hasil matriks setelah eliminasi baris ketiga\n",
        "print(\"Matriks setelah eliminasi baris ketiga:\")\n",
        "for row in SPL:\n",
        "    print(row)\n"
      ],
      "metadata": {
        "colab": {
          "base_uri": "https://localhost:8080/"
        },
        "id": "ciwrHKDW745H",
        "outputId": "6d7f0fec-d18f-4af8-9947-0dda36bb1d3c"
      },
      "execution_count": 11,
      "outputs": [
        {
          "output_type": "stream",
          "name": "stdout",
          "text": [
            "Matriks setelah eliminasi baris ketiga:\n",
            "[2, 3, -1, 5]\n",
            "[0, -2, -1, -7]\n",
            "[0, 6, -2, 6]\n"
          ]
        }
      ]
    },
    {
      "cell_type": "code",
      "source": [
        "# Menampilkan elemen SPL[1][1] sebagai contoh elemen tertentu\n",
        "print(\"Elemen SPL[1][1]:\", SPL[1][1])\n"
      ],
      "metadata": {
        "colab": {
          "base_uri": "https://localhost:8080/"
        },
        "id": "mAInAe368reO",
        "outputId": "e7bc9dfb-17f5-4ef9-b791-614da12654bf"
      },
      "execution_count": 12,
      "outputs": [
        {
          "output_type": "stream",
          "name": "stdout",
          "text": [
            "Elemen SPL[1][1]: -2\n"
          ]
        }
      ]
    }
  ]
}