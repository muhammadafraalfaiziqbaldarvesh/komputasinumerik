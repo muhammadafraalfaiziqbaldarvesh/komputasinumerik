{
  "nbformat": 4,
  "nbformat_minor": 0,
  "metadata": {
    "colab": {
      "provenance": [],
      "include_colab_link": true
    },
    "kernelspec": {
      "name": "python3",
      "display_name": "Python 3"
    },
    "language_info": {
      "name": "python"
    }
  },
  "cells": [
    {
      "cell_type": "markdown",
      "metadata": {
        "id": "view-in-github",
        "colab_type": "text"
      },
      "source": [
        "<a href=\"https://colab.research.google.com/github/muhammadafraalfaiziqbaldarvesh/komputasinumerik/blob/main/bisection.ipynb\" target=\"_parent\"><img src=\"https://colab.research.google.com/assets/colab-badge.svg\" alt=\"Open In Colab\"/></a>"
      ]
    },
    {
      "cell_type": "code",
      "execution_count": 13,
      "metadata": {
        "id": "2JHVHadOtZcL"
      },
      "outputs": [],
      "source": [
        "# Mengimpor pustaka numpy untuk perhitungan numerik\n",
        "import numpy as np\n",
        "\n",
        "def bisection(f, a, b, tol):\n",
        "    \"\"\"\n",
        "    f: fungsi yang akar-akarnya ingin dicari\n",
        "    a, b: batas bawah dan atas interval\n",
        "    tol: toleransi kesalahan\n",
        "    \"\"\"\n",
        "\n",
        "    # Mengecek apakah fungsi memiliki tanda yang sama pada a dan b\n",
        "    if np.sign(f(a)) == np.sign(f(b)):\n",
        "        raise Exception(\"Fungsi tidak memiliki akar dalam interval ini.\")\n",
        "\n",
        "    # Menghitung titik tengah interval\n",
        "    m = (a + b) / 2\n",
        "\n",
        "    # Jika nilai fungsi di titik tengah lebih kecil dari toleransi, mengembalikan m sebagai akar\n",
        "    if np.abs(f(m)) < tol:\n",
        "        return m\n",
        "    # Jika tanda fungsi pada a sama dengan tanda fungsi di m, akar ada di interval [m, b]\n",
        "    elif np.sign(f(a)) == np.sign(f(m)):\n",
        "        return bisection(f, m, b, tol)\n",
        "    # Jika tanda fungsi pada b sama dengan tanda fungsi di m, akar ada di interval [a, m]\n",
        "    elif np.sign(f(b)) == np.sign(f(m)):\n",
        "        return bisection(f, a, m, tol)"
      ]
    },
    {
      "cell_type": "code",
      "source": [
        "# Mendefinisikan fungsi f(x) = x^2 - 2\n",
        "# Fungsi ini memiliki akar di sqrt(2) dan -sqrt(2)\n",
        "f = lambda x: x**2 - 2"
      ],
      "metadata": {
        "id": "5_LhaSoZurtu"
      },
      "execution_count": 14,
      "outputs": []
    },
    {
      "cell_type": "code",
      "source": [
        "# Mencari akar fungsi dengan toleransi 0.1\n",
        "r1 = bisection(f, 0, 2, 0.1)  # Interval [0, 2], toleransi 0.1\n",
        "print(\"r1 =\", r1)\n",
        "# Mencari akar fungsi dengan toleransi 0.01\n",
        "r01 = bisection(f, 0, 2, 0.01)  # Interval [0, 2], toleransi 0.01\n",
        "print(\"r01 =\", r01)"
      ],
      "metadata": {
        "id": "ncQT2IKYvNBk",
        "outputId": "5eb69b6d-2242-408a-9e00-443cb2c6034e",
        "colab": {
          "base_uri": "https://localhost:8080/"
        }
      },
      "execution_count": 10,
      "outputs": [
        {
          "output_type": "stream",
          "name": "stdout",
          "text": [
            "r1 = 1.4375\n",
            "r01 = 1.4140625\n"
          ]
        }
      ]
    },
    {
      "cell_type": "code",
      "source": [
        "# Mengevaluasi nilai fungsi di r1\n",
        "print(\"f(r1) =\", f(r1))\n",
        "# Mengevaluasi nilai fungsi di r01\n",
        "print(\"f(r01) =\", f(r01))"
      ],
      "metadata": {
        "id": "g9SXJzkylyJ3",
        "outputId": "069e5d3e-16fe-4cd0-9dcf-029de536b0a9",
        "colab": {
          "base_uri": "https://localhost:8080/"
        }
      },
      "execution_count": 11,
      "outputs": [
        {
          "output_type": "stream",
          "name": "stdout",
          "text": [
            "f(r1) = 0.06640625\n",
            "f(r01) = -0.00042724609375\n"
          ]
        }
      ]
    }
  ]
}